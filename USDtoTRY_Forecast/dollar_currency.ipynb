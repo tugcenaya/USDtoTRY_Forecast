{
  "cells": [
    {
      "cell_type": "code",
      "execution_count": null,
      "metadata": {
        "id": "qcS6es82K9Od"
      },
      "outputs": [],
      "source": [
        "import pandas as pd\n",
        "import numpy as np\n",
        "import matplotlib.pyplot as plt"
      ]
    },
    {
      "cell_type": "code",
      "execution_count": null,
      "metadata": {
        "id": "QqOB9eu5LGtH"
      },
      "outputs": [],
      "source": [
        "data = pd.read_csv(\"data.csv\")\n",
        "print(data)"
      ]
    },
    {
      "cell_type": "code",
      "execution_count": null,
      "metadata": {
        "colab": {
          "base_uri": "https://localhost:8080/",
          "height": 0
        },
        "id": "VvaJHS5MLrfq",
        "outputId": "b0995dee-06f0-45d1-f581-f9e8d33b8e0b"
      },
      "outputs": [],
      "source": [
        "x = data.iloc[:,0:1] #days\n",
        "y = data.iloc[:, 1:2] #values\n",
        "\n",
        "print(x.shape)\n",
        "list = list(x.shape)\n",
        "day = list[0] + 1\n",
        "print(day)"
      ]
    },
    {
      "cell_type": "code",
      "execution_count": null,
      "metadata": {
        "id": "aGLp42VFMExK"
      },
      "outputs": [],
      "source": [
        "X = x.values\n",
        "Y = y.values"
      ]
    },
    {
      "cell_type": "code",
      "execution_count": null,
      "metadata": {
        "id": "jCJsBYB3MH3G"
      },
      "outputs": [],
      "source": [
        "print(X)\n",
        "print(Y)"
      ]
    },
    {
      "cell_type": "code",
      "execution_count": null,
      "metadata": {
        "colab": {
          "base_uri": "https://localhost:8080/",
          "height": 295
        },
        "id": "71hGhYlVMO4k",
        "outputId": "9a198df1-c307-4e86-8366-2761cf84b09e"
      },
      "outputs": [],
      "source": [
        "from sklearn.linear_model import LinearRegression\n",
        "lin_reg = LinearRegression()\n",
        "lin_reg.fit(X,Y)\n",
        "plt.plot(X,Y,color=\"red\")\n",
        "plt.plot(x,lin_reg.predict(X),color=\"blue\")\n",
        "plt.title(\"Last {} Day Dollar Chart\".format(day))\n",
        "plt.xlabel(\"Day\")\n",
        "plt.ylabel(\"Value\")\n",
        "plt.show()"
      ]
    },
    {
      "cell_type": "code",
      "execution_count": null,
      "metadata": {
        "colab": {
          "base_uri": "https://localhost:8080/",
          "height": 0
        },
        "id": "DMIHDFT8Tw_3",
        "outputId": "0d419905-9e39-44e6-8da4-879e887c76f6"
      },
      "outputs": [],
      "source": [
        "print(\"Please enter number of days: \")\n",
        "day_number = int(input())"
      ]
    },
    {
      "cell_type": "code",
      "execution_count": null,
      "metadata": {
        "id": "4vCPmn1uoX0w"
      },
      "outputs": [],
      "source": [
        "value_list = []"
      ]
    },
    {
      "cell_type": "code",
      "execution_count": null,
      "metadata": {
        "colab": {
          "base_uri": "https://localhost:8080/",
          "height": 0
        },
        "id": "zwuUYLgbNVjQ",
        "outputId": "f80b22cc-b5fd-429a-f225-3ddd4d5b7454"
      },
      "outputs": [],
      "source": [
        "for i in range(day_number):\n",
        "  print(\"Next \",i+1,\".day forecast\")\n",
        "  print(lin_reg.predict([[i+day_number]]))\n",
        "  number = lin_reg.predict([[i+day_number]])\n",
        "  value_list.append(number)"
      ]
    },
    {
      "cell_type": "code",
      "execution_count": null,
      "metadata": {
        "colab": {
          "base_uri": "https://localhost:8080/",
          "height": 0
        },
        "id": "Lzn3M_91pHCM",
        "outputId": "79223ef2-0d64-4c71-9da2-eb3be0c04d2c"
      },
      "outputs": [],
      "source": [
        "value_list_2 = []\n",
        "for i in range(day_number):\n",
        "  b = float(value_list[i])\n",
        "  value_list_2.append(b)\n",
        "print(value_list_2)"
      ]
    },
    {
      "cell_type": "code",
      "execution_count": null,
      "metadata": {
        "colab": {
          "base_uri": "https://localhost:8080/",
          "height": 0
        },
        "id": "f9NterX2gFND",
        "outputId": "bb89f55a-ba2e-4215-b5d9-6027006c311d"
      },
      "outputs": [],
      "source": [
        "ls_day = []\n",
        "for i in range(day_number):\n",
        "  ls_day.append(i+1)\n",
        "print(ls_day)\n",
        "\n"
      ]
    },
    {
      "cell_type": "code",
      "execution_count": null,
      "metadata": {
        "colab": {
          "base_uri": "https://localhost:8080/",
          "height": 0
        },
        "id": "oDr151Dcl0Mq",
        "outputId": "4347a084-16f6-4f25-aa97-7fc670a7ded1"
      },
      "outputs": [],
      "source": [
        "label = ['day']\n",
        "data_day = pd.DataFrame(data=ls_day, columns=label)\n",
        "print(data_day)\n",
        "\n",
        "label_2 = ['value']\n",
        "data_value = pd.DataFrame(data=value_list_2, columns=label_2)\n",
        "print(data_value)"
      ]
    },
    {
      "cell_type": "code",
      "execution_count": null,
      "metadata": {
        "colab": {
          "base_uri": "https://localhost:8080/",
          "height": 1163
        },
        "id": "5TyL4BrAuzLs",
        "outputId": "3de82947-13a4-4144-ac11-3e82134d4cb6"
      },
      "outputs": [],
      "source": [
        "x_day = data_day.iloc[:,0:1]\n",
        "y_value = data_value.iloc[:,0:1]\n",
        "\n",
        "print(x_day.values)\n",
        "print(y_value.values)\n",
        "\n",
        "from sklearn.linear_model import LinearRegression\n",
        "lin_reg2 = LinearRegression()\n",
        "lin_reg2.fit(x_day.values,y_value.values)\n",
        "plt.plot(x_day.values,y_value.values,color=\"red\")\n",
        "#plt.plot(x_gun,lin_reg2.predict(A),color=\"blue\")\n",
        "plt.title(\"Next {} Days Dollar Forecast Chart\".format(day_number))\n",
        "plt.xlabel(\"Day\")\n",
        "plt.ylabel(\"Value\")\n",
        "plt.show()"
      ]
    }
  ],
  "metadata": {
    "colab": {
      "collapsed_sections": [],
      "name": "Untitled23.ipynb",
      "provenance": []
    },
    "kernelspec": {
      "display_name": "Python 3.8.10 64-bit",
      "language": "python",
      "name": "python3"
    },
    "language_info": {
      "codemirror_mode": {
        "name": "ipython",
        "version": 3
      },
      "file_extension": ".py",
      "mimetype": "text/x-python",
      "name": "python",
      "nbconvert_exporter": "python",
      "pygments_lexer": "ipython3",
      "version": "3.8.10"
    },
    "vscode": {
      "interpreter": {
        "hash": "916dbcbb3f70747c44a77c7bcd40155683ae19c65e1c03b4aa3499c5328201f1"
      }
    }
  },
  "nbformat": 4,
  "nbformat_minor": 0
}
